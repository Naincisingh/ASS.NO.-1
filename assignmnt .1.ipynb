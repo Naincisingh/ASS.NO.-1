{
 "cells": [
  {
   "cell_type": "code",
   "execution_count": 18,
   "id": "d68b5246-94d7-49f8-84ae-bc5defe07b17",
   "metadata": {},
   "outputs": [
    {
     "name": "stdout",
     "output_type": "stream",
     "text": [
      "15\n"
     ]
    },
    {
     "name": "stdin",
     "output_type": "stream",
     "text": [
      "enter any number to print its table 5\n"
     ]
    },
    {
     "name": "stdout",
     "output_type": "stream",
     "text": [
      "5\n",
      "10\n",
      "15\n",
      "20\n",
      "25\n",
      "30\n",
      "35\n",
      "40\n",
      "45\n",
      "50\n"
     ]
    },
    {
     "data": {
      "text/plain": [
       "50"
      ]
     },
     "execution_count": 18,
     "metadata": {},
     "output_type": "execute_result"
    }
   ],
   "source": [
    "\"\"\"qts .1\"\"\"\n",
    "\"\"\"for loop example\"\"\"\n",
    "l=[1,2,3,4,5]\n",
    "sum=0\n",
    "for i in l:\n",
    "    sum=sum+i\n",
    "  \n",
    "print(sum)    \n",
    "\"\"\"while loop example\"\"\"\n",
    "n=int(input(\"enter any number to print its table\"))\n",
    "result=0\n",
    "count=1\n",
    "while(count<=10):\n",
    "     result=n*count\n",
    "     print(result)\n",
    "     count=count+1\n",
    "result"
   ]
  },
  {
   "cell_type": "code",
   "execution_count": 4,
   "id": "caa2b2ce-31ae-46a2-b541-4989e309471f",
   "metadata": {},
   "outputs": [
    {
     "name": "stdout",
     "output_type": "stream",
     "text": [
      "55\n",
      "3628800\n"
     ]
    }
   ],
   "source": [
    "\"\"\"QTS.2.sum and product of first 10 natural numbers\"\"\"\n",
    "sum=0\n",
    "prd=1\n",
    "count=1\n",
    "l=list(range(1,11))\n",
    "for i in l:\n",
    "       while count<=10:\n",
    "            if i>=1 or i<=10:\n",
    "                sum=sum+i\n",
    "                prd=prd*i\n",
    "                count=count+1\n",
    "                i=i+1\n",
    "            else:\n",
    "                count=count+1\n",
    "                i=i+1       \n",
    "\n",
    "print(sum)\n",
    "\n",
    "print(prd)"
   ]
  },
  {
   "cell_type": "code",
   "execution_count": 1,
   "id": "f7de7be3-addb-4e13-944f-adb01c9404dc",
   "metadata": {},
   "outputs": [
    {
     "name": "stdin",
     "output_type": "stream",
     "text": [
      "enter a number of units consumed in a month 310\n"
     ]
    }
   ],
   "source": [
    "\"\"\"QTS.3.program to compute electricity bill of a household\"\"\"\n",
    "charge=0\n",
    "unit=int(input(\"enter a number of units consumed in a month\"))\n",
    "\n",
    "if unit<=100:\n",
    "    charge=unit*4.5\n",
    "elif unit<=200:\n",
    "    charge=(unit-100)*6+100*4.5\n",
    "\n",
    "elif unit<=300:\n",
    "    charge=(unit-200)*10+100*6+100*4.5\n",
    "\n",
    "else:\n",
    "    charge=(unit-300)*20+100*10+100*6+100*4.5\n",
    "    \n"
   ]
  },
  {
   "cell_type": "code",
   "execution_count": 2,
   "id": "8ce0a989-58fc-404a-96c2-1fdbe701fdc6",
   "metadata": {},
   "outputs": [
    {
     "data": {
      "text/plain": [
       "2250.0"
      ]
     },
     "execution_count": 2,
     "metadata": {},
     "output_type": "execute_result"
    }
   ],
   "source": [
    "charge"
   ]
  },
  {
   "cell_type": "code",
   "execution_count": 1,
   "id": "9abf2749-ff62-422f-9fa7-dd3d0df2895c",
   "metadata": {},
   "outputs": [
    {
     "name": "stdout",
     "output_type": "stream",
     "text": [
      "[2, 4, 5, 6, 8, 10, 12, 14, 15, 16, 18, 20, 22, 24, 25, 26, 28, 30, 32, 34, 35, 36, 38, 40, 42, 44, 45, 46, 48, 50, 52, 54, 55, 56, 58, 60, 62, 64, 65, 66, 68, 70, 72, 74, 75, 76, 78, 80, 82, 84, 85, 86, 88, 90, 92, 94, 95, 96, 98, 100]\n"
     ]
    }
   ],
   "source": [
    "\"\"\"QTS.4\"\"\"\n",
    "l1=[]\n",
    "cube=0\n",
    "count=1\n",
    "l=list(range(1,101))\n",
    "for i in l:\n",
    "    while count<=100:\n",
    "        if i>=1 or i <=100:\n",
    "            cube=i*i*i\n",
    "            if cube%4==0 or cube%5==0:\n",
    "                l1.append(i)\n",
    "                count=count+1\n",
    "                i=i+1\n",
    "            else:\n",
    "                i=i+1\n",
    "                count=count+1\n",
    "\n",
    "print(l1)            "
   ]
  },
  {
   "cell_type": "code",
   "execution_count": 1,
   "id": "254e8fe4-5e2e-4bcb-afbc-89b2cf20bf25",
   "metadata": {},
   "outputs": [
    {
     "name": "stdout",
     "output_type": "stream",
     "text": [
      "12\n"
     ]
    }
   ],
   "source": [
    "\"\"\"QTS.5\"\"\"\n",
    "\n",
    "str=\"i want to become a data scientist\"\n",
    "v=0\n",
    "for i in str:\n",
    "    if i=='a' or i=='e' or i=='i' or i=='o' or i=='u' or i=='A' or i=='E' or i=='I' or i=='O' or i=='U':\n",
    "        v=v+1\n",
    "    else:\n",
    "        continue\n",
    "    \n",
    "print(v)"
   ]
  },
  {
   "cell_type": "code",
   "execution_count": null,
   "id": "ef9626ca-52aa-4876-aa50-8ef052e998c0",
   "metadata": {},
   "outputs": [],
   "source": []
  }
 ],
 "metadata": {
  "kernelspec": {
   "display_name": "Python 3 (ipykernel)",
   "language": "python",
   "name": "python3"
  },
  "language_info": {
   "codemirror_mode": {
    "name": "ipython",
    "version": 3
   },
   "file_extension": ".py",
   "mimetype": "text/x-python",
   "name": "python",
   "nbconvert_exporter": "python",
   "pygments_lexer": "ipython3",
   "version": "3.10.8"
  }
 },
 "nbformat": 4,
 "nbformat_minor": 5
}
